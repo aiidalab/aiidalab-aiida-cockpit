{
 "cells": [
  {
   "cell_type": "markdown",
   "metadata": {},
   "source": [
    "# AiiDA REST API"
   ]
  },
  {
   "cell_type": "code",
   "execution_count": null,
   "metadata": {
    "scrolled": false
   },
   "outputs": [],
   "source": [
    "from __future__ import print_function\n",
    "\n",
    "from IPython.display import display, clear_output\n",
    "from IPython.utils import io\n",
    "import ipywidgets as ipw\n",
    "import multiprocessing\n",
    "from urllib2 import urlopen\n",
    "import json\n",
    "import os\n",
    "import time"
   ]
  },
  {
   "cell_type": "code",
   "execution_count": null,
   "metadata": {},
   "outputs": [],
   "source": [
    "# starting/stopping AiiDA REST API\n",
    "server_endpoint = '/api/v2'\n",
    "\n",
    "class Toggler:\n",
    "    \"\"\"Provides start/stop button for a server.\"\"\"\n",
    "    def __init__(self, name, start_cmd, url, wait_time=0.2):\n",
    "        self.name = name\n",
    "        self.start_cmd = start_cmd\n",
    "        self.url = url\n",
    "\n",
    "        self.proc = None\n",
    "        self.started = False\n",
    "        self.start_label = \"Start {}\".format(name)\n",
    "        self.stop_label = \"Stop {}\".format(name)\n",
    "        self.wait_time = wait_time\n",
    "        \n",
    "        self.btn = ipw.Button(description=self.start_label)\n",
    "        self.btn.on_click(self.toggle)\n",
    "        self.info = ipw.Output()\n",
    "        \n",
    "    def toggle(self,b):\n",
    "        self.started = not self.started\n",
    "        \n",
    "        if self.started:\n",
    "            self.btn.description = self.stop_label\n",
    "            self.proc = multiprocessing.Process(target=self.start)\n",
    "            # hide output of server process\n",
    "            with io.capture_output():\n",
    "                self.proc.start()\n",
    "            time.sleep(self.wait_time)\n",
    "            with self.info:\n",
    "                clear_output()\n",
    "                print(\"Started {} at {}\".format(self.name, self.public_url))\n",
    "        else:\n",
    "            self.btn.description = self.start_label\n",
    "            self.proc.terminate()\n",
    "            with self.info:\n",
    "                clear_output()\n",
    "                print(\"Stopped {}\".format(self.name))\n",
    "\n",
    "    def start(self):\n",
    "        cmd = self.start_cmd\n",
    "        ! $cmd\n",
    "        \n",
    "    @property\n",
    "    def hbox(self):\n",
    "        return ipw.HBox([self.btn, self.info])\n",
    "    \n",
    "    @property\n",
    "    def public_url(self):\n",
    "        return self.url\n",
    "    \n",
    "     \n",
    "rest_toggler = Toggler(name='REST API', start_cmd='verdi restapi', url='http://127.0.0.1:5000'+server_endpoint)\n",
    "\n",
    "display(rest_toggler.hbox)"
   ]
  },
  {
   "cell_type": "code",
   "execution_count": null,
   "metadata": {},
   "outputs": [],
   "source": [
    "# on AiiDA Lab: provide external access via ngrok\n",
    "ngrok = '/project/ngrok'\n",
    "on_aiidalab = 'AIIDALAB_DOMAIN' in os.environ\n",
    "\n",
    "class NgrokToggler(Toggler):\n",
    "    @property\n",
    "    def public_url(self):\n",
    "        # get public urls by querying ngrok api\n",
    "        response = urlopen(self.url+'/api/tunnels')\n",
    "        jdict = json.load(response)\n",
    "        url = jdict['tunnels'][0]['public_url']\n",
    "        return url + server_endpoint\n",
    "    \n",
    "if on_aiidalab:\n",
    "    \n",
    "    ngrok_toggler = NgrokToggler(name='exposing', \n",
    "                                 start_cmd=ngrok+' http 5000 --region eu --bind-tls true', \n",
    "                                 url='http://127.0.0.1:4040',\n",
    "                                 wait_time=1.0)\n",
    "    display(ngrok_toggler.hbox)"
   ]
  },
  {
   "cell_type": "code",
   "execution_count": null,
   "metadata": {},
   "outputs": [],
   "source": [
    "# testing REST endpoints\n",
    "\n",
    "def request(b):\n",
    "    with test_out:\n",
    "        clear_output()\n",
    "        print(\"GET {}\".format(btn_url.value))\n",
    "        response = urlopen(btn_url.value)\n",
    "        print(response.read())\n",
    "    \n",
    "btn_url = ipw.Text(layout=ipw.Layout(width='40%'),\n",
    "                   value='http://127.0.0.1:5000' + server_endpoint)\n",
    "btn_test = ipw.Button(description=\"Test URL\")\n",
    "btn_test.on_click(request)\n",
    "\n",
    "test_out = ipw.Output()\n",
    "test_out.layout.border =\"2px solid black\"        \n",
    "\n",
    "display(ipw.HBox([btn_test, btn_url]), test_out)"
   ]
  }
 ],
 "metadata": {
  "kernelspec": {
   "display_name": "Python 2",
   "language": "python",
   "name": "python2"
  },
  "language_info": {
   "codemirror_mode": {
    "name": "ipython",
    "version": 2
   },
   "file_extension": ".py",
   "mimetype": "text/x-python",
   "name": "python",
   "nbconvert_exporter": "python",
   "pygments_lexer": "ipython2",
   "version": "2.7.15rc1"
  }
 },
 "nbformat": 4,
 "nbformat_minor": 2
}
